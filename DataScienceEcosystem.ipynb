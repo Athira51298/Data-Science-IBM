{
 "cells": [
  {
   "cell_type": "markdown",
   "id": "12b9baf5-df10-4139-b2a6-c9b4f088f15c",
   "metadata": {},
   "source": [
    "# Data Science Tools and Ecosystem"
   ]
  },
  {
   "cell_type": "markdown",
   "id": "a94153f5-e5e3-45dc-91ed-3f2953f1d662",
   "metadata": {},
   "source": [
    "In this notebook, Data Science Tools and Ecosystem are summarized."
   ]
  },
  {
   "cell_type": "markdown",
   "id": "a345c795-5bbd-4729-90bd-5d5628910567",
   "metadata": {
    "tags": []
   },
   "source": [
    "Some of the popular languages that Data Scientists use are:\n",
    "1. Python\n",
    "2. R\n",
    "3. Java"
   ]
  },
  {
   "cell_type": "markdown",
   "id": "69f2614a-a840-41bc-929f-830835d0ab0a",
   "metadata": {},
   "source": [
    "Some of the commonly used libraries used by Data Scientists include:\n",
    "1. Scikit learn\n",
    "2. Matplotlib\n",
    "3. Pandas\n",
    "4. Numpy\n"
   ]
  },
  {
   "cell_type": "markdown",
   "id": "58e4069f-b58b-4bb6-86f0-98c618c871bd",
   "metadata": {},
   "source": [
    "| Data Science Tools |\n",
    "|--------------------|\n",
    "| Tensorflow |\n",
    "| Apache Spark |\n",
    "| R Studio |"
   ]
  },
  {
   "cell_type": "markdown",
   "id": "74563a46-3ae3-4ac3-baeb-45a294cec61a",
   "metadata": {
    "tags": []
   },
   "source": [
    "### Below are a few examples of evaluating arithmetic expressions in Python\n"
   ]
  },
  {
   "cell_type": "code",
   "execution_count": 3,
   "id": "e72c7351-5ea5-4321-8473-39d8c9bc3dc7",
   "metadata": {
    "tags": []
   },
   "outputs": [
    {
     "data": {
      "text/plain": [
       "17"
      ]
     },
     "execution_count": 3,
     "metadata": {},
     "output_type": "execute_result"
    }
   ],
   "source": [
    "#This a simple arithmetic expression to mutiply then add integers\n",
    "(3*4)+5"
   ]
  },
  {
   "cell_type": "code",
   "execution_count": 4,
   "id": "471cb25d-25b6-4ef2-aed4-90ee20a9a6ed",
   "metadata": {
    "tags": []
   },
   "outputs": [
    {
     "data": {
      "text/plain": [
       "3.3333333333333335"
      ]
     },
     "execution_count": 4,
     "metadata": {},
     "output_type": "execute_result"
    }
   ],
   "source": [
    "#This will convert 200 minutes to hours by diving by 60\n",
    "200/60"
   ]
  },
  {
   "cell_type": "markdown",
   "id": "255d93c0-1397-4639-afe3-4ccb98418a5a",
   "metadata": {},
   "source": [
    "**Objectives:**\n",
    "* List popular languages for Data Science\n",
    "* List popular libraries used for Data Science\n",
    "* Data Science Tools and Ecosystem\n",
    "\n"
   ]
  },
  {
   "cell_type": "markdown",
   "id": "0a278c98-333e-4614-94b4-5a252c59a117",
   "metadata": {},
   "source": [
    "## Author\n",
    "Athira Unnikrishnan"
   ]
  },
  {
   "cell_type": "code",
   "execution_count": null,
   "id": "da1f9ac4-42f8-460d-b025-96e211685f0c",
   "metadata": {},
   "outputs": [],
   "source": []
  }
 ],
 "metadata": {
  "kernelspec": {
   "display_name": "Python",
   "language": "python",
   "name": "conda-env-python-py"
  },
  "language_info": {
   "codemirror_mode": {
    "name": "ipython",
    "version": 3
   },
   "file_extension": ".py",
   "mimetype": "text/x-python",
   "name": "python",
   "nbconvert_exporter": "python",
   "pygments_lexer": "ipython3",
   "version": "3.7.12"
  }
 },
 "nbformat": 4,
 "nbformat_minor": 5
}
